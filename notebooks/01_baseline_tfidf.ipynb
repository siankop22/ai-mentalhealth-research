{
 "cells": [
  {
   "cell_type": "code",
   "execution_count": 3,
   "id": "927b41ce",
   "metadata": {},
   "outputs": [
    {
     "name": "stdout",
     "output_type": "stream",
     "text": [
      "              precision    recall  f1-score   support\n",
      "\n",
      "    distress       1.00      0.33      0.50         3\n",
      "     neutral       0.50      1.00      0.67         2\n",
      "\n",
      "    accuracy                           0.60         5\n",
      "   macro avg       0.75      0.67      0.58         5\n",
      "weighted avg       0.80      0.60      0.57         5\n",
      "\n"
     ]
    }
   ],
   "source": [
    "import pandas as pd\n",
    "from sklearn.feature_extraction.text import TfidfVectorizer\n",
    "from sklearn.linear_model import LogisticRegression\n",
    "from sklearn.metrics import classification_report\n",
    "\n",
    "train = pd.read_csv(\"../data/splits/train.csv\")\n",
    "dev = pd.read_csv(\"../data/splits/dev.csv\")\n",
    "\n",
    "vec = TfidfVectorizer(max_features=5000, ngram_range=(1,2))\n",
    "X_train = vec.fit_transform(train['text'])\n",
    "X_dev = vec.transform(dev['text'])\n",
    "\n",
    "model = LogisticRegression(max_iter=500)\n",
    "model.fit(X_train, train['label'])\n",
    "\n",
    "pred = model.predict(X_dev)\n",
    "print(classification_report(dev['label'], pred))\n"
   ]
  }
 ],
 "metadata": {
  "kernelspec": {
   "display_name": "venv",
   "language": "python",
   "name": "python3"
  },
  "language_info": {
   "codemirror_mode": {
    "name": "ipython",
    "version": 3
   },
   "file_extension": ".py",
   "mimetype": "text/x-python",
   "name": "python",
   "nbconvert_exporter": "python",
   "pygments_lexer": "ipython3",
   "version": "3.13.3"
  }
 },
 "nbformat": 4,
 "nbformat_minor": 5
}
