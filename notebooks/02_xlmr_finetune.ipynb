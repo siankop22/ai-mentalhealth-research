{
 "cells": [
  {
   "cell_type": "code",
   "execution_count": 31,
   "id": "dcc141e7",
   "metadata": {},
   "outputs": [
    {
     "name": "stderr",
     "output_type": "stream",
     "text": [
      "Generating train split: 37 examples [00:00, 17821.46 examples/s]\n",
      "Generating validation split: 5 examples [00:00, 2516.38 examples/s]\n",
      "Map: 100%|██████████| 37/37 [00:00<00:00, 13558.38 examples/s]\n",
      "Map: 100%|██████████| 5/5 [00:00<00:00, 2392.37 examples/s]\n",
      "Some weights of XLMRobertaForSequenceClassification were not initialized from the model checkpoint at xlm-roberta-base and are newly initialized: ['classifier.dense.bias', 'classifier.dense.weight', 'classifier.out_proj.bias', 'classifier.out_proj.weight']\n",
      "You should probably TRAIN this model on a down-stream task to be able to use it for predictions and inference.\n",
      "/var/folders/_j/fszqvsys46s24n58j750qn800000gn/T/ipykernel_31802/1580946663.py:71: FutureWarning: `tokenizer` is deprecated and will be removed in version 5.0.0 for `Trainer.__init__`. Use `processing_class` instead.\n",
      "  trainer = Trainer(\n",
      "/Users/tksiankop/Desktop/ai-mentalhealth-research/venv/lib/python3.13/site-packages/torch/utils/data/dataloader.py:684: UserWarning: 'pin_memory' argument is set as true but not supported on MPS now, then device pinned memory won't be used.\n",
      "  warnings.warn(warn_msg)\n"
     ]
    },
    {
     "data": {
      "text/html": [
       "\n",
       "    <div>\n",
       "      \n",
       "      <progress value='15' max='15' style='width:300px; height:20px; vertical-align: middle;'></progress>\n",
       "      [15/15 00:02, Epoch 3/3]\n",
       "    </div>\n",
       "    <table border=\"1\" class=\"dataframe\">\n",
       "  <thead>\n",
       " <tr style=\"text-align: left;\">\n",
       "      <th>Step</th>\n",
       "      <th>Training Loss</th>\n",
       "    </tr>\n",
       "  </thead>\n",
       "  <tbody>\n",
       "  </tbody>\n",
       "</table><p>"
      ],
      "text/plain": [
       "<IPython.core.display.HTML object>"
      ]
     },
     "metadata": {},
     "output_type": "display_data"
    },
    {
     "data": {
      "text/html": [],
      "text/plain": [
       "<IPython.core.display.HTML object>"
      ]
     },
     "metadata": {},
     "output_type": "display_data"
    },
    {
     "data": {
      "text/plain": [
       "{'eval_loss': 0.6766914129257202,\n",
       " 'eval_runtime': 0.0267,\n",
       " 'eval_samples_per_second': 187.132,\n",
       " 'eval_steps_per_second': 37.426,\n",
       " 'epoch': 3.0}"
      ]
     },
     "execution_count": 31,
     "metadata": {},
     "output_type": "execute_result"
    }
   ],
   "source": [
    "# ✅ XLM-R fine-tuning (version-compatible)\n",
    "import os, inspect, pandas as pd\n",
    "from datasets import load_dataset\n",
    "from transformers import AutoTokenizer, AutoModelForSequenceClassification, Trainer, TrainingArguments\n",
    "\n",
    "# If your notebook lives in /notebooks, go to project root so paths work:\n",
    "os.chdir(\"..\") if os.path.basename(os.getcwd()) == \"notebooks\" else None\n",
    "\n",
    "train_df = pd.read_csv(\"data/splits/train.csv\")\n",
    "dev_df   = pd.read_csv(\"data/splits/dev.csv\")\n",
    "\n",
    "\n",
    "# ---- Map string labels to integers ----\n",
    "label2id = {\"neutral\": 0, \"distress\": 1}\n",
    "id2label = {v: k for k, v in label2id.items()}\n",
    "\n",
    "if train_df[\"label\"].dtype == object:\n",
    "    train_df[\"labels\"] = train_df[\"label\"].map(label2id)\n",
    "    dev_df[\"labels\"]   = dev_df[\"label\"].map(label2id)\n",
    "else:\n",
    "    # If already numeric, ensure column is named 'labels'\n",
    "    train_df[\"labels\"] = train_df[\"label\"]\n",
    "    dev_df[\"labels\"]   = dev_df[\"label\"]\n",
    "\n",
    "# Keep only the columns we need for loading; drop others to be safe\n",
    "train_df[[\"text\", \"labels\"]].to_csv(\"train_temp.csv\", index=False)\n",
    "dev_df[[\"text\", \"labels\"]].to_csv(\"dev_temp.csv\", index=False)\n",
    "\n",
    "dataset = load_dataset(\"csv\", data_files={\"train\":\"train_temp.csv\", \"validation\":\"dev_temp.csv\"})\n",
    "\n",
    "# ---- Tokenizer & tokenization ----\n",
    "tokenizer = AutoTokenizer.from_pretrained(\"xlm-roberta-base\")\n",
    "\n",
    "def tokenize(batch):\n",
    "    return tokenizer(batch[\"text\"], truncation=True, padding=\"max_length\", max_length=128)\n",
    "\n",
    "dataset = dataset.map(tokenize, batched=True)\n",
    "# Remove everything except the model inputs + labels\n",
    "keep_cols = {\"input_ids\", \"attention_mask\", \"labels\"}\n",
    "for split in dataset:\n",
    "    drop_cols = [c for c in dataset[split].column_names if c not in keep_cols]\n",
    "    dataset[split] = dataset[split].remove_columns(drop_cols)\n",
    "dataset.set_format(\"torch\")\n",
    "\n",
    "# ---- Model ----\n",
    "model = AutoModelForSequenceClassification.from_pretrained(\n",
    "    \"xlm-roberta-base\",\n",
    "    num_labels=2,\n",
    "    id2label=id2label,\n",
    "    label2id=label2id\n",
    ")\n",
    "\n",
    "# ---- TrainingArguments (compatible across versions) ----\n",
    "ta_params = inspect.signature(TrainingArguments.__init__).parameters\n",
    "kwargs = dict(\n",
    "    output_dir=\"./results\",\n",
    "    per_device_train_batch_size=8,\n",
    "    per_device_eval_batch_size=8,\n",
    "    num_train_epochs=3,\n",
    "    learning_rate=2e-5,\n",
    "    logging_dir=\"./logs\",\n",
    ")\n",
    "if \"evaluation_strategy\" in ta_params:\n",
    "    kwargs[\"evaluation_strategy\"] = \"epoch\"\n",
    "if \"save_strategy\" in ta_params:\n",
    "    kwargs[\"save_strategy\"] = \"no\"\n",
    "\n",
    "args = TrainingArguments(**kwargs)\n",
    "\n",
    "# ---- Trainer ----\n",
    "trainer = Trainer(\n",
    "    model=model,\n",
    "    args=args,\n",
    "    train_dataset=dataset[\"train\"],\n",
    "    eval_dataset=dataset[\"validation\"],\n",
    "    tokenizer=tokenizer,\n",
    ")\n",
    "\n",
    "trainer.train()\n",
    "metrics = trainer.evaluate()\n",
    "metrics\n",
    "\n"
   ]
  },
  {
   "cell_type": "code",
   "execution_count": 32,
   "id": "336c3f57",
   "metadata": {},
   "outputs": [
    {
     "name": "stdout",
     "output_type": "stream",
     "text": [
      "              precision    recall  f1-score   support\n",
      "\n",
      "     neutral       0.00      0.00      0.00         2\n",
      "    distress       0.60      1.00      0.75         3\n",
      "\n",
      "    accuracy                           0.60         5\n",
      "   macro avg       0.30      0.50      0.38         5\n",
      "weighted avg       0.36      0.60      0.45         5\n",
      "\n",
      "✅ Metrics saved to reports/experiments/xlmr_metrics.json\n"
     ]
    },
    {
     "name": "stderr",
     "output_type": "stream",
     "text": [
      "/Users/tksiankop/Desktop/ai-mentalhealth-research/venv/lib/python3.13/site-packages/sklearn/metrics/_classification.py:1731: UndefinedMetricWarning: Precision is ill-defined and being set to 0.0 in labels with no predicted samples. Use `zero_division` parameter to control this behavior.\n",
      "  _warn_prf(average, modifier, f\"{metric.capitalize()} is\", result.shape[0])\n",
      "/Users/tksiankop/Desktop/ai-mentalhealth-research/venv/lib/python3.13/site-packages/sklearn/metrics/_classification.py:1731: UndefinedMetricWarning: Precision is ill-defined and being set to 0.0 in labels with no predicted samples. Use `zero_division` parameter to control this behavior.\n",
      "  _warn_prf(average, modifier, f\"{metric.capitalize()} is\", result.shape[0])\n",
      "/Users/tksiankop/Desktop/ai-mentalhealth-research/venv/lib/python3.13/site-packages/sklearn/metrics/_classification.py:1731: UndefinedMetricWarning: Precision is ill-defined and being set to 0.0 in labels with no predicted samples. Use `zero_division` parameter to control this behavior.\n",
      "  _warn_prf(average, modifier, f\"{metric.capitalize()} is\", result.shape[0])\n",
      "/Users/tksiankop/Desktop/ai-mentalhealth-research/venv/lib/python3.13/site-packages/sklearn/metrics/_classification.py:1731: UndefinedMetricWarning: Precision is ill-defined and being set to 0.0 in labels with no predicted samples. Use `zero_division` parameter to control this behavior.\n",
      "  _warn_prf(average, modifier, f\"{metric.capitalize()} is\", result.shape[0])\n",
      "/Users/tksiankop/Desktop/ai-mentalhealth-research/venv/lib/python3.13/site-packages/sklearn/metrics/_classification.py:1731: UndefinedMetricWarning: Precision is ill-defined and being set to 0.0 in labels with no predicted samples. Use `zero_division` parameter to control this behavior.\n",
      "  _warn_prf(average, modifier, f\"{metric.capitalize()} is\", result.shape[0])\n",
      "/Users/tksiankop/Desktop/ai-mentalhealth-research/venv/lib/python3.13/site-packages/sklearn/metrics/_classification.py:1731: UndefinedMetricWarning: Precision is ill-defined and being set to 0.0 in labels with no predicted samples. Use `zero_division` parameter to control this behavior.\n",
      "  _warn_prf(average, modifier, f\"{metric.capitalize()} is\", result.shape[0])\n"
     ]
    }
   ],
   "source": [
    "import numpy as np, pandas as pd\n",
    "from sklearn.metrics import classification_report, confusion_matrix\n",
    "\n",
    "pred_out = trainer.predict(dataset[\"validation\"])\n",
    "y_true  = pred_out.label_ids\n",
    "y_prob  = pred_out.predictions\n",
    "y_pred  = y_prob.argmax(axis=1)\n",
    "\n",
    "print(classification_report(y_true, y_pred, target_names=[\"neutral\",\"distress\"]))\n",
    "\n",
    "from pathlib import Path, PurePath\n",
    "import json\n",
    "from sklearn.metrics import classification_report\n",
    "import numpy as np\n",
    "\n",
    "# Create folder if missing\n",
    "Path(\"reports/experiments\").mkdir(parents=True, exist_ok=True)\n",
    "\n",
    "# Save results\n",
    "with open(\"reports/experiments/xlmr_metrics.json\", \"w\") as f:\n",
    "    json.dump({\n",
    "        \"eval_loss\": float(pred_out.metrics.get(\"test_loss\", np.nan)),\n",
    "        \"report\": classification_report(\n",
    "            y_true, y_pred, target_names=[\"neutral\",\"distress\"], output_dict=True\n",
    "        )\n",
    "    }, f, indent=2)\n",
    "\n",
    "print(\"✅ Metrics saved to reports/experiments/xlmr_metrics.json\")\n",
    "\n"
   ]
  },
  {
   "cell_type": "code",
   "execution_count": 33,
   "id": "628de3cd",
   "metadata": {},
   "outputs": [
    {
     "name": "stdout",
     "output_type": "stream",
     "text": [
      "✅ Model and tokenizer saved to: models/xlmr-burmese\n"
     ]
    }
   ],
   "source": [
    "# ✅ Save fine-tuned model and tokenizer\n",
    "trainer.save_model(\"models/xlmr-burmese\")\n",
    "tokenizer.save_pretrained(\"models/xlmr-burmese\")\n",
    "\n",
    "print(\"✅ Model and tokenizer saved to: models/xlmr-burmese\")\n",
    "\n"
   ]
  },
  {
   "cell_type": "code",
   "execution_count": null,
   "id": "740d650d",
   "metadata": {},
   "outputs": [],
   "source": []
  }
 ],
 "metadata": {
  "kernelspec": {
   "display_name": "venv",
   "language": "python",
   "name": "python3"
  },
  "language_info": {
   "codemirror_mode": {
    "name": "ipython",
    "version": 3
   },
   "file_extension": ".py",
   "mimetype": "text/x-python",
   "name": "python",
   "nbconvert_exporter": "python",
   "pygments_lexer": "ipython3",
   "version": "3.13.3"
  }
 },
 "nbformat": 4,
 "nbformat_minor": 5
}
